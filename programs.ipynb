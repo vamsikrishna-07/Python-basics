{
 "cells": [
  {
   "cell_type": "code",
   "execution_count": 3,
   "id": "85d1713b-0233-4e87-9606-8f4e891514cc",
   "metadata": {},
   "outputs": [
    {
     "name": "stdout",
     "output_type": "stream",
     "text": [
      "python \n",
      "is\n",
      "interesting\n"
     ]
    }
   ],
   "source": [
    "#Welcome to python\n",
    "a=\"\"\"python \n",
    "is\n",
    "interesting\"\"\"\n",
    "print(a)"
   ]
  },
  {
   "cell_type": "code",
   "execution_count": 4,
   "id": "bf2f43f3-53b8-416a-8994-65bb3e61848e",
   "metadata": {},
   "outputs": [
    {
     "name": "stdout",
     "output_type": "stream",
     "text": [
      "5\n"
     ]
    }
   ],
   "source": [
    "_123=5\n",
    "print(_123)"
   ]
  },
  {
   "cell_type": "markdown",
   "id": "91fb91d7-37e1-4251-b6e3-3d6a108da4be",
   "metadata": {},
   "source": [
    "We should not include any special characters in a variable\n",
    "but it can start with _"
   ]
  },
  {
   "cell_type": "code",
   "execution_count": 5,
   "id": "5dc37cfd-4ec7-470b-8621-f702eab55ffb",
   "metadata": {},
   "outputs": [
    {
     "ename": "SyntaxError",
     "evalue": "invalid decimal literal (1541985939.py, line 1)",
     "output_type": "error",
     "traceback": [
      "\u001b[1;36m  Cell \u001b[1;32mIn[5], line 1\u001b[1;36m\u001b[0m\n\u001b[1;33m    123_=5\u001b[0m\n\u001b[1;37m       ^\u001b[0m\n\u001b[1;31mSyntaxError\u001b[0m\u001b[1;31m:\u001b[0m invalid decimal literal\n"
     ]
    }
   ],
   "source": [
    "123_=5\n",
    "print(123_)"
   ]
  },
  {
   "cell_type": "code",
   "execution_count": 10,
   "id": "bc177dc5-42e6-405c-90ae-f360ce384ae0",
   "metadata": {},
   "outputs": [
    {
     "name": "stdout",
     "output_type": "stream",
     "text": [
      "Vamsi Krishna\n",
      "<class 'str'>\n"
     ]
    }
   ],
   "source": [
    "a=\"Vamsi\"\n",
    "b=\" Krishna\"\n",
    "print(a + b)\n",
    "print(type(a))"
   ]
  },
  {
   "cell_type": "code",
   "execution_count": 15,
   "id": "7c79cab0-890e-4d15-8583-38698ade43fe",
   "metadata": {},
   "outputs": [
    {
     "name": "stdout",
     "output_type": "stream",
     "text": [
      "hello\n"
     ]
    }
   ],
   "source": [
    "a=\"hello\"\n",
    "print(a)\n"
   ]
  },
  {
   "cell_type": "code",
   "execution_count": 12,
   "id": "4b66416f-4ef7-4e90-981a-3fac1bb2e5be",
   "metadata": {},
   "outputs": [
    {
     "data": {
      "text/plain": [
       "'HELLO'"
      ]
     },
     "execution_count": 12,
     "metadata": {},
     "output_type": "execute_result"
    }
   ],
   "source": [
    "a.upper()"
   ]
  },
  {
   "cell_type": "code",
   "execution_count": 13,
   "id": "86a79c4b-a0c2-40b6-85b7-2b4663a3500f",
   "metadata": {},
   "outputs": [
    {
     "data": {
      "text/plain": [
       "'hello'"
      ]
     },
     "execution_count": 13,
     "metadata": {},
     "output_type": "execute_result"
    }
   ],
   "source": [
    "a.lower()"
   ]
  },
  {
   "cell_type": "code",
   "execution_count": 16,
   "id": "753d7ce7-dd6b-498c-820d-9421ad451c23",
   "metadata": {},
   "outputs": [
    {
     "data": {
      "text/plain": [
       "'Hello'"
      ]
     },
     "execution_count": 16,
     "metadata": {},
     "output_type": "execute_result"
    }
   ],
   "source": [
    "a.capitalize()"
   ]
  },
  {
   "cell_type": "markdown",
   "id": "43681fb2-6df8-40e9-9ce8-9c4f6cdd989f",
   "metadata": {},
   "source": [
    "TYPECASTING"
   ]
  },
  {
   "cell_type": "code",
   "execution_count": 17,
   "id": "900f8cc4-0c08-4c59-8423-59374a6ef2f4",
   "metadata": {},
   "outputs": [
    {
     "name": "stdout",
     "output_type": "stream",
     "text": [
      "10.5\n",
      "<class 'float'>\n"
     ]
    }
   ],
   "source": [
    "x=10.5\n",
    "print(x)\n",
    "print(type(x))"
   ]
  },
  {
   "cell_type": "code",
   "execution_count": 20,
   "id": "3b653893-a51e-4dd4-9f5e-7039eb08236a",
   "metadata": {},
   "outputs": [
    {
     "name": "stdout",
     "output_type": "stream",
     "text": [
      "10\n",
      "<class 'int'>\n"
     ]
    }
   ],
   "source": [
    "y=int(x)\n",
    "print(y)\n",
    "print(type(y))"
   ]
  },
  {
   "cell_type": "code",
   "execution_count": 21,
   "id": "ac043734-2e8e-4b38-8114-5438b14f1712",
   "metadata": {},
   "outputs": [
    {
     "name": "stdout",
     "output_type": "stream",
     "text": [
      "<class 'str'>\n"
     ]
    }
   ],
   "source": [
    "a=\"10\"\n",
    "print(type(a))"
   ]
  },
  {
   "cell_type": "code",
   "execution_count": 22,
   "id": "774b5ead-8b10-48c3-8856-9d905b0582c2",
   "metadata": {},
   "outputs": [
    {
     "name": "stdout",
     "output_type": "stream",
     "text": [
      "10\n",
      "<class 'int'>\n"
     ]
    }
   ],
   "source": [
    "b=int(a)\n",
    "print(b)\n",
    "print(type(b))"
   ]
  },
  {
   "cell_type": "code",
   "execution_count": 31,
   "id": "f22df36b-8743-4edc-8e4c-046390453fd6",
   "metadata": {},
   "outputs": [
    {
     "name": "stdin",
     "output_type": "stream",
     "text": [
      "Enter the marks of a,b,c: 10/20/30\n"
     ]
    }
   ],
   "source": [
    "a,b,c=input(\"Enter the marks of a,b,c:\").split(\"/\")\n"
   ]
  },
  {
   "cell_type": "code",
   "execution_count": 32,
   "id": "c94b5342-626d-4464-9842-0244e082ac7a",
   "metadata": {},
   "outputs": [
    {
     "name": "stdout",
     "output_type": "stream",
     "text": [
      "marks of a: 10\n",
      "marks of b: 20\n",
      "marks of c: 30\n"
     ]
    }
   ],
   "source": [
    "print(\"marks of a:\",a)\n",
    "print(\"marks of b:\",b )\n",
    "print(\"marks of c:\",c )"
   ]
  },
  {
   "cell_type": "code",
   "execution_count": 33,
   "id": "0f3aa457-3349-4c7d-abf1-16d30caadda1",
   "metadata": {},
   "outputs": [
    {
     "data": {
      "text/plain": [
       "str"
      ]
     },
     "execution_count": 33,
     "metadata": {},
     "output_type": "execute_result"
    }
   ],
   "source": [
    "type(a)"
   ]
  },
  {
   "cell_type": "code",
   "execution_count": 34,
   "id": "25567111-f59d-441c-9af3-104c8da6b413",
   "metadata": {},
   "outputs": [
    {
     "name": "stdout",
     "output_type": "stream",
     "text": [
      "marks of a: 10\n",
      "marks of b: 20\n",
      "marks of c: 30\n"
     ]
    }
   ],
   "source": [
    "a=int(a)\n",
    "b=int(b)\n",
    "c=int(c)\n",
    "print(\"marks of a:\",a)\n",
    "print(\"marks of b:\",b )\n",
    "print(\"marks of c:\",c )"
   ]
  },
  {
   "cell_type": "code",
   "execution_count": 35,
   "id": "cc639bc9-e80e-4072-84e5-1fd4f371dc03",
   "metadata": {},
   "outputs": [
    {
     "data": {
      "text/plain": [
       "int"
      ]
     },
     "execution_count": 35,
     "metadata": {},
     "output_type": "execute_result"
    }
   ],
   "source": [
    "type(a)"
   ]
  },
  {
   "cell_type": "markdown",
   "id": "cbba3615-8bfa-4c33-bb84-ec5c3f84df4b",
   "metadata": {},
   "source": [
    "SIMPLE CALCULATOR"
   ]
  },
  {
   "cell_type": "code",
   "execution_count": 45,
   "id": "e3e19e91-44b6-403a-9587-865e7ba4b9c2",
   "metadata": {},
   "outputs": [
    {
     "name": "stdin",
     "output_type": "stream",
     "text": [
      "Enter the value of a: 5\n",
      "Enter the value of b: 3\n"
     ]
    },
    {
     "name": "stdout",
     "output_type": "stream",
     "text": [
      "Sum of 5 and 3 is 8\n",
      "Difference of 5 and 3 is 2\n",
      "Multiplication of 5 and 3 is 15\n",
      "Division of 5 and 3 is 1.6666666666666667\n"
     ]
    }
   ],
   "source": [
    "a=int(input(\"Enter the value of a:\"))\n",
    "b=int(input(\"Enter the value of b:\"))\n",
    "sum=a+b\n",
    "difference=a-b\n",
    "multiplication=a*b\n",
    "division=a/b\n",
    "print(\"Sum of {0} and {1} is {2}\".format(a,b,sum))\n",
    "print(\"Difference of {0} and {1} is {2}\".format(a,b,difference))\n",
    "print(\"Multiplication of {0} and {1} is {2}\".format(a,b,multiplication))\n",
    "print(\"Division of {0} and {1} is {2}\".format(a,b,division))"
   ]
  },
  {
   "cell_type": "markdown",
   "id": "3abd4a7b-7183-4345-91b1-2d84240153e1",
   "metadata": {},
   "source": [
    "LIST"
   ]
  },
  {
   "cell_type": "code",
   "execution_count": 56,
   "id": "7042ee43-9f74-4652-8a3a-6cddde797f4b",
   "metadata": {},
   "outputs": [
    {
     "name": "stdout",
     "output_type": "stream",
     "text": [
      "[2, 1.19, 'Vamsi', (3+4j)]\n"
     ]
    }
   ],
   "source": [
    "a=[2,1.19,\"Vamsi\",(3+4j)]\n",
    "print(a)"
   ]
  }
 ],
 "metadata": {
  "kernelspec": {
   "display_name": "Python 3 (ipykernel)",
   "language": "python",
   "name": "python3"
  },
  "language_info": {
   "codemirror_mode": {
    "name": "ipython",
    "version": 3
   },
   "file_extension": ".py",
   "mimetype": "text/x-python",
   "name": "python",
   "nbconvert_exporter": "python",
   "pygments_lexer": "ipython3",
   "version": "3.11.7"
  }
 },
 "nbformat": 4,
 "nbformat_minor": 5
}
